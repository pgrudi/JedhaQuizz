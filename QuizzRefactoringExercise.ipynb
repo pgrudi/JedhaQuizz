{
 "cells": [
  {
   "cell_type": "markdown",
   "id": "5ffe80b1",
   "metadata": {},
   "source": [
    "Refactored code"
   ]
  },
  {
   "cell_type": "code",
   "execution_count": null,
   "id": "2c0aaea2",
   "metadata": {},
   "outputs": [],
   "source": [
    "class Quizz:\n",
    "\n",
    "    def __init__(self):\n",
    "        self.question_counter= 3\n",
    "        self.answer = [\"Tom Waits\", \"Madonna\", \"Nico\"]\n",
    "        self.question = [\"Quelle est le chanteur moins connu ?\", \"Quelle est la chanteuse plus connue ?\", \"Quelle est la chanteuse la moins connue? \"]\n",
    "        \n",
    "    def respond_question(self):\n",
    "        while self.question_counter != 0:\n",
    "            for i in enumerate(self.answer):\n",
    "                for j in enumerate(self.question):\n",
    "                    self.entered = input(\"self.question(j)\")\n",
    "                    if self.entered != self.answer(i):\n",
    "                        self.question_counter -= 1\n",
    "                        print(\"Wrong answer\")\n",
    "                    if self.question_counter == 0:\n",
    "                        print(\"Game over\")\n",
    "                        break\n",
    "                    self.entered = input(\"self.question(j)\")\n",
    "if self.question_counter > 0:\n",
    "    print(\"🥳 Congratulations, you've won the quiz 🥳\")\n",
    "\n"
   ]
  },
  {
   "cell_type": "code",
   "execution_count": 39,
   "id": "5f236b8d",
   "metadata": {},
   "outputs": [],
   "source": [
    "class Quiz():\n",
    "\n",
    "    def __init__(self):\n",
    "        self.answer = [\"Tom Waits\", \"Madonna\", \"Nico\"]\n",
    "        self.question = [\"Quelle est le chanteur moins connu ?\", \"Quelle est la chanteuse plus connue ?\", \"Quelle est la chanteuse la moins connue? \"]\n",
    "        self.question_counter = 3\n",
    "                    \n",
    "    def respond_question(self):\n",
    "        while self.question_counter != 0:\n",
    "            for i in enumerate(self.answer):\n",
    "                for j in enumerate(self.question):\n",
    "                    self.entered = input(self.question(j))\n",
    "                    if self.entered != self.answer(i):\n",
    "                        self.question_counter -= 1\n",
    "                        print(\"Wrong answer\")\n",
    "                    if self.question_counter == 0:\n",
    "                        print(\"Game over\")\n",
    "                        break\n",
    "                    self.entered = input(\"self.question(j)\")\n",
    "\n",
    "\n"
   ]
  },
  {
   "cell_type": "markdown",
   "id": "eeb57e3c",
   "metadata": {},
   "source": [
    "Version corrigée"
   ]
  },
  {
   "cell_type": "code",
   "execution_count": 45,
   "id": "614195fd",
   "metadata": {},
   "outputs": [],
   "source": [
    "class Quiz:\n",
    "    def __init__(self):\n",
    "        self.answer = [\"Tom Waits\", \"Madonna\", \"Nico\"]\n",
    "        self.question = [\n",
    "            \"Quelle est le chanteur moins connu ?\",\n",
    "            \"Quelle est la chanteuse plus connue ?\",\n",
    "            \"Quelle est la chanteuse la moins connue? \"\n",
    "        ]\n",
    "        self.question_counter = 3\n",
    "\n",
    "    def respond_question(self):\n",
    "        for i in range(len(self.question)):\n",
    "            entered = input(self.question[i] + \" \")\n",
    "            if entered != self.answer[i]:\n",
    "                self.question_counter -= 1\n",
    "                print(\"Wrong answer\")\n",
    "                if self.question_counter == 0:\n",
    "                    print(\"Game over\")\n",
    "                    break\n",
    "                entered = input(self.question[i] + \" \")\n",
    "        else:\n",
    "            print(\"Congratulations! You answered all questions correctly.\")"
   ]
  },
  {
   "cell_type": "code",
   "execution_count": 46,
   "id": "87bfc064",
   "metadata": {},
   "outputs": [
    {
     "name": "stdout",
     "output_type": "stream",
     "text": [
      "Wrong answer\n",
      "Wrong answer\n",
      "Wrong answer\n",
      "Game over\n"
     ]
    }
   ],
   "source": [
    "quizz = Quiz()\n",
    "quizz.respond_question()\n"
   ]
  }
 ],
 "metadata": {
  "kernelspec": {
   "display_name": "base",
   "language": "python",
   "name": "python3"
  },
  "language_info": {
   "codemirror_mode": {
    "name": "ipython",
    "version": 3
   },
   "file_extension": ".py",
   "mimetype": "text/x-python",
   "name": "python",
   "nbconvert_exporter": "python",
   "pygments_lexer": "ipython3",
   "version": "3.13.5"
  }
 },
 "nbformat": 4,
 "nbformat_minor": 5
}
